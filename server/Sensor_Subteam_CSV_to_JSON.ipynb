{
 "cells": [
  {
   "cell_type": "code",
   "execution_count": 2,
   "metadata": {},
   "outputs": [],
   "source": [
    "import pandas as pd\n",
    "import json\n",
    "from glob import glob"
   ]
  },
  {
   "cell_type": "code",
   "execution_count": 36,
   "metadata": {},
   "outputs": [],
   "source": [
    "# Replace old or outdated csv, or relocate to different directory\n",
    "sensor_in_path = glob(\"*.csv\")[0]\n",
    "sensor_csv = pd.read_csv(sensor_in_path)"
   ]
  },
  {
   "cell_type": "code",
   "execution_count": 37,
   "metadata": {},
   "outputs": [
    {
     "data": {
      "text/html": [
       "<div>\n",
       "<style scoped>\n",
       "    .dataframe tbody tr th:only-of-type {\n",
       "        vertical-align: middle;\n",
       "    }\n",
       "\n",
       "    .dataframe tbody tr th {\n",
       "        vertical-align: top;\n",
       "    }\n",
       "\n",
       "    .dataframe thead th {\n",
       "        text-align: right;\n",
       "    }\n",
       "</style>\n",
       "<table border=\"1\" class=\"dataframe\">\n",
       "  <thead>\n",
       "    <tr style=\"text-align: right;\">\n",
       "      <th></th>\n",
       "      <th>Sensors</th>\n",
       "      <th>Subteam</th>\n",
       "    </tr>\n",
       "  </thead>\n",
       "  <tbody>\n",
       "    <tr>\n",
       "      <th>0</th>\n",
       "      <td>FL_VSS</td>\n",
       "      <td>Suspension-Powertrain-Chassis</td>\n",
       "    </tr>\n",
       "    <tr>\n",
       "      <th>1</th>\n",
       "      <td>FR_VSS</td>\n",
       "      <td>Suspension-Powertrain-Chassis</td>\n",
       "    </tr>\n",
       "    <tr>\n",
       "      <th>2</th>\n",
       "      <td>BL_VSS</td>\n",
       "      <td>Suspension-Powertrain-Chassis</td>\n",
       "    </tr>\n",
       "    <tr>\n",
       "      <th>3</th>\n",
       "      <td>BR_VSS</td>\n",
       "      <td>Suspension-Powertrain-Chassis</td>\n",
       "    </tr>\n",
       "    <tr>\n",
       "      <th>4</th>\n",
       "      <td>FL_BRK_TMP</td>\n",
       "      <td>Suspension</td>\n",
       "    </tr>\n",
       "  </tbody>\n",
       "</table>\n",
       "</div>"
      ],
      "text/plain": [
       "      Sensors                        Subteam\n",
       "0      FL_VSS  Suspension-Powertrain-Chassis\n",
       "1      FR_VSS  Suspension-Powertrain-Chassis\n",
       "2      BL_VSS  Suspension-Powertrain-Chassis\n",
       "3      BR_VSS  Suspension-Powertrain-Chassis\n",
       "4  FL_BRK_TMP                     Suspension"
      ]
     },
     "execution_count": 37,
     "metadata": {},
     "output_type": "execute_result"
    }
   ],
   "source": [
    "# Verify that correct csv is loaded\n",
    "sensor_csv.head()"
   ]
  },
  {
   "cell_type": "code",
   "execution_count": 38,
   "metadata": {},
   "outputs": [],
   "source": [
    "def parse_subteam_name(team_str: str) -> tuple:\n",
    "    \"\"\"\n",
    "    Splits a subteam group with delimiter '-'.\n",
    "    Groups containing only sentinel value 'nu' are considered empty.\n",
    "    \"\"\"\n",
    "    if team_str == 'nu':\n",
    "        return ()\n",
    "    return tuple(team_str.strip().split('-'))"
   ]
  },
  {
   "cell_type": "code",
   "execution_count": 39,
   "metadata": {},
   "outputs": [
    {
     "data": {
      "text/html": [
       "<div>\n",
       "<style scoped>\n",
       "    .dataframe tbody tr th:only-of-type {\n",
       "        vertical-align: middle;\n",
       "    }\n",
       "\n",
       "    .dataframe tbody tr th {\n",
       "        vertical-align: top;\n",
       "    }\n",
       "\n",
       "    .dataframe thead th {\n",
       "        text-align: right;\n",
       "    }\n",
       "</style>\n",
       "<table border=\"1\" class=\"dataframe\">\n",
       "  <thead>\n",
       "    <tr style=\"text-align: right;\">\n",
       "      <th></th>\n",
       "      <th>Sensors</th>\n",
       "      <th>Subteam</th>\n",
       "      <th>Parsed</th>\n",
       "    </tr>\n",
       "  </thead>\n",
       "  <tbody>\n",
       "    <tr>\n",
       "      <th>0</th>\n",
       "      <td>FL_VSS</td>\n",
       "      <td>Suspension-Powertrain-Chassis</td>\n",
       "      <td>(Suspension, Powertrain, Chassis)</td>\n",
       "    </tr>\n",
       "    <tr>\n",
       "      <th>1</th>\n",
       "      <td>FR_VSS</td>\n",
       "      <td>Suspension-Powertrain-Chassis</td>\n",
       "      <td>(Suspension, Powertrain, Chassis)</td>\n",
       "    </tr>\n",
       "    <tr>\n",
       "      <th>2</th>\n",
       "      <td>BL_VSS</td>\n",
       "      <td>Suspension-Powertrain-Chassis</td>\n",
       "      <td>(Suspension, Powertrain, Chassis)</td>\n",
       "    </tr>\n",
       "    <tr>\n",
       "      <th>3</th>\n",
       "      <td>BR_VSS</td>\n",
       "      <td>Suspension-Powertrain-Chassis</td>\n",
       "      <td>(Suspension, Powertrain, Chassis)</td>\n",
       "    </tr>\n",
       "    <tr>\n",
       "      <th>4</th>\n",
       "      <td>FL_BRK_TMP</td>\n",
       "      <td>Suspension</td>\n",
       "      <td>(Suspension,)</td>\n",
       "    </tr>\n",
       "  </tbody>\n",
       "</table>\n",
       "</div>"
      ],
      "text/plain": [
       "      Sensors                        Subteam  \\\n",
       "0      FL_VSS  Suspension-Powertrain-Chassis   \n",
       "1      FR_VSS  Suspension-Powertrain-Chassis   \n",
       "2      BL_VSS  Suspension-Powertrain-Chassis   \n",
       "3      BR_VSS  Suspension-Powertrain-Chassis   \n",
       "4  FL_BRK_TMP                     Suspension   \n",
       "\n",
       "                              Parsed  \n",
       "0  (Suspension, Powertrain, Chassis)  \n",
       "1  (Suspension, Powertrain, Chassis)  \n",
       "2  (Suspension, Powertrain, Chassis)  \n",
       "3  (Suspension, Powertrain, Chassis)  \n",
       "4                      (Suspension,)  "
      ]
     },
     "execution_count": 39,
     "metadata": {},
     "output_type": "execute_result"
    }
   ],
   "source": [
    "# Parse subteams by sensor\n",
    "sensor_csv[\"Parsed\"] = sensor_csv[\"Subteam\"].apply(parse_subteam_name)\n",
    "sensor_csv.head()"
   ]
  },
  {
   "cell_type": "code",
   "execution_count": 40,
   "metadata": {},
   "outputs": [],
   "source": [
    "# Convert to dict by subteam\n",
    "by_subteam = {}\n",
    "for row in sensor_csv.itertuples():\n",
    "    teams = row.Parsed\n",
    "    for team in teams:\n",
    "        if team not in by_subteam.keys():\n",
    "            by_subteam[team] = [row.Sensors]\n",
    "        else:\n",
    "            by_subteam[team].append(row.Sensors)\n"
   ]
  },
  {
   "cell_type": "code",
   "execution_count": 41,
   "metadata": {},
   "outputs": [
    {
     "data": {
      "text/plain": [
       "{'Suspension': ['FL_VSS',\n",
       "  'FR_VSS',\n",
       "  'BL_VSS',\n",
       "  'BR_VSS',\n",
       "  'FL_BRK_TMP',\n",
       "  'FR_BRK_TMP',\n",
       "  'BL_BRK_TMP',\n",
       "  'BR_BRK_TMP',\n",
       "  'FL_SUS_POT',\n",
       "  'FR_SUS_POT',\n",
       "  'BR_SUS_POT',\n",
       "  'BL_SUS_POT',\n",
       "  'F_BRK_PRES',\n",
       "  'B_BRK_PRES',\n",
       "  'STEER_ANG',\n",
       "  'ACCELX',\n",
       "  'ACCELY',\n",
       "  'ACCELZ',\n",
       "  'BATT_VLT'],\n",
       " 'Powertrain': ['FL_VSS',\n",
       "  'FR_VSS',\n",
       "  'BL_VSS',\n",
       "  'BR_VSS',\n",
       "  'TPS',\n",
       "  'OIL_PRES',\n",
       "  'OIL_TEMP',\n",
       "  'COOL_TEMP',\n",
       "  'MAP',\n",
       "  'MAT',\n",
       "  'NEUT',\n",
       "  'LAMBDA1',\n",
       "  'LAMBDA2',\n",
       "  'BATT_VLT',\n",
       "  'RPMS'],\n",
       " 'Chassis': ['FL_VSS',\n",
       "  'FR_VSS',\n",
       "  'BL_VSS',\n",
       "  'BR_VSS',\n",
       "  'ACCELX',\n",
       "  'ACCELY',\n",
       "  'ACCELZ',\n",
       "  'BATT_VLT'],\n",
       " 'Frame': ['ACCELX', 'ACCELY', 'ACCELZ', 'BATT_VLT'],\n",
       " 'Aerodynamics': ['STRAIN1',\n",
       "  'STRAIN2',\n",
       "  'STRAIN3',\n",
       "  'STRAIN4',\n",
       "  'PTUBE1',\n",
       "  'PTUBE2',\n",
       "  'PTUBE3',\n",
       "  'PTUBE4',\n",
       "  'PTUBE5',\n",
       "  'PTUBE6',\n",
       "  'PTUBE7',\n",
       "  'PTUBE8',\n",
       "  'PTUBE9',\n",
       "  'PTUBE10',\n",
       "  'PTUBE11',\n",
       "  'PTUBE12',\n",
       "  'BATT_VLT'],\n",
       " 'Electronics': ['DAQTEMP', 'BATT_VLT'],\n",
       " 'EV': ['BATT_VLT']}"
      ]
     },
     "execution_count": 41,
     "metadata": {},
     "output_type": "execute_result"
    }
   ],
   "source": [
    "by_subteam"
   ]
  },
  {
   "cell_type": "code",
   "execution_count": 42,
   "metadata": {},
   "outputs": [
    {
     "data": {
      "text/plain": [
       "820"
      ]
     },
     "execution_count": 42,
     "metadata": {},
     "output_type": "execute_result"
    }
   ],
   "source": [
    "# Store in .json file\n",
    "sensor_out_path = \"sensors_by_subteam.json\"\n",
    "open(sensor_out_path, 'w').write(json.dumps(by_subteam))"
   ]
  },
  {
   "cell_type": "code",
   "execution_count": null,
   "metadata": {},
   "outputs": [],
   "source": []
  }
 ],
 "metadata": {
  "kernelspec": {
   "display_name": "Python 3",
   "language": "python",
   "name": "python3"
  },
  "language_info": {
   "codemirror_mode": {
    "name": "ipython",
    "version": 3
   },
   "file_extension": ".py",
   "mimetype": "text/x-python",
   "name": "python",
   "nbconvert_exporter": "python",
   "pygments_lexer": "ipython3",
   "version": "3.8.3"
  }
 },
 "nbformat": 4,
 "nbformat_minor": 4
}
